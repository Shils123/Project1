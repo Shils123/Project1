{
  "cells": [
    {
      "cell_type": "markdown",
      "metadata": {
        "id": "view-in-github",
        "colab_type": "text"
      },
      "source": [
        "<a href=\"https://colab.research.google.com/github/Shils123/Project1/blob/main/Clustering%2BPython%2BLab.ipynb\" target=\"_parent\"><img src=\"https://colab.research.google.com/assets/colab-badge.svg\" alt=\"Open In Colab\"/></a>"
      ]
    },
    {
      "cell_type": "markdown",
      "metadata": {
        "id": "SLggm-U3vSH-"
      },
      "source": [
        "## K-Means Clustering"
      ]
    },
    {
      "cell_type": "markdown",
      "metadata": {
        "id": "YnJX_j2ZvSIA"
      },
      "source": [
        "**Overview**<br>\n",
        "<a href=\"https://archive.ics.uci.edu/ml/datasets/online+retail\">Online retail is a transnational data set</a> which contains all the transactions occurring between 01/12/2010 and 09/12/2011 for a UK-based and registered non-store online retail. The company mainly sells unique all-occasion gifts. Many customers of the company are wholesalers.\n",
        "\n",
        "The steps are broadly:\n",
        "1. Read and understand the data\n",
        "2. Clean the data\n",
        "3. Prepare the data for modelling\n",
        "4. Modelling\n",
        "5. Final analysis and reco"
      ]
    },
    {
      "cell_type": "markdown",
      "metadata": {
        "id": "12CfxAIdvSIA"
      },
      "source": [
        "# 1. Read and visualise the data"
      ]
    },
    {
      "cell_type": "code",
      "execution_count": null,
      "metadata": {
        "id": "g_hMmyyDvSIB"
      },
      "outputs": [],
      "source": [
        "import numpy as np\n",
        "import pandas as pd\n",
        "import matplotlib.pyplot as plt\n",
        "import seaborn as sns\n",
        "\n",
        "import datetime as dt\n",
        "\n",
        "import sklearn\n",
        "from sklearn.preprocessing import StandardScaler\n",
        "from sklearn.cluster import KMeans\n",
        "from sklearn.metrics import silhouette_score\n",
        "\n",
        "from scipy.cluster.hierarchy import linkage\n",
        "from scipy.cluster.hierarchy import dendrogram\n",
        "from scipy.cluster.hierarchy import cut_tree\n",
        "import warnings\n",
        "warnings.filterwarnings('ignore')"
      ]
    },
    {
      "cell_type": "code",
      "source": [
        "from google.colab import drive\n",
        "drive.mount('/content/gdrive')"
      ],
      "metadata": {
        "id": "AuZEY5LBvgih"
      },
      "execution_count": null,
      "outputs": []
    },
    {
      "cell_type": "code",
      "execution_count": null,
      "metadata": {
        "id": "wjMq9-yevSIB"
      },
      "outputs": [],
      "source": [
        "# read the dataset\n",
        "retail_df = pd.read_csv(\"/content/gdrive/MyDrive/Colab Notebooks/Online_Retail.csv\", sep=\",\", encoding=\"ISO-8859-1\", header=0)\n",
        "retail_df.head()"
      ]
    },
    {
      "cell_type": "code",
      "execution_count": null,
      "metadata": {
        "id": "Bj_s7_gMvSIC"
      },
      "outputs": [],
      "source": [
        "# basics of the df\n",
        "retail_df.info()"
      ]
    },
    {
      "cell_type": "markdown",
      "metadata": {
        "id": "UcoSHIZsvSIC"
      },
      "source": [
        "# 2. Clean the data"
      ]
    },
    {
      "cell_type": "code",
      "execution_count": null,
      "metadata": {
        "id": "meBBoiq1vSID"
      },
      "outputs": [],
      "source": [
        "# missing values\n",
        "round(100*(retail_df.isnull().sum())/len(retail_df), 2)"
      ]
    },
    {
      "cell_type": "code",
      "execution_count": null,
      "metadata": {
        "id": "6ahi5xqZvSID"
      },
      "outputs": [],
      "source": [
        "# drop all rows having missing values\n",
        "retail_df = retail_df.dropna()\n",
        "retail_df.shape"
      ]
    },
    {
      "cell_type": "code",
      "execution_count": null,
      "metadata": {
        "id": "Mum14L7qvSID"
      },
      "outputs": [],
      "source": [
        "retail_df.head()"
      ]
    },
    {
      "cell_type": "code",
      "execution_count": null,
      "metadata": {
        "id": "7m4LFGqSvSID"
      },
      "outputs": [],
      "source": [
        "# new column: amount \n",
        "retail_df['amount'] = retail_df['Quantity']*retail_df['UnitPrice']\n",
        "retail_df.head()"
      ]
    },
    {
      "cell_type": "markdown",
      "metadata": {
        "id": "3MKFNPKuvSIE"
      },
      "source": [
        "# 3. Prepare the data for modelling"
      ]
    },
    {
      "cell_type": "markdown",
      "metadata": {
        "id": "LLnfXYIcvSIE"
      },
      "source": [
        "- R (Recency): Number of days since last purchase\n",
        "- F (Frequency): Number of tracsactions\n",
        "- M (Monetary): Total amount of transactions (revenue contributed)"
      ]
    },
    {
      "cell_type": "code",
      "execution_count": null,
      "metadata": {
        "id": "oFAwsGX9vSIE"
      },
      "outputs": [],
      "source": [
        "# monetary\n",
        "grouped_df = retail_df.groupby('CustomerID')['amount'].sum()\n",
        "grouped_df = grouped_df.reset_index()\n",
        "grouped_df.head()"
      ]
    },
    {
      "cell_type": "code",
      "execution_count": null,
      "metadata": {
        "id": "LFLltaccvSIE"
      },
      "outputs": [],
      "source": [
        "# frequency\n",
        "frequency = retail_df.groupby('CustomerID')['InvoiceNo'].count()\n",
        "frequency = frequency.reset_index()\n",
        "frequency.columns = ['CustomerID', 'frequency']\n",
        "frequency.head()"
      ]
    },
    {
      "cell_type": "code",
      "execution_count": null,
      "metadata": {
        "scrolled": true,
        "id": "Hm8bj_g4vSIF"
      },
      "outputs": [],
      "source": [
        "# merge the two dfs\n",
        "grouped_df = pd.merge(grouped_df, frequency, on='CustomerID', how='inner')\n",
        "grouped_df.head()"
      ]
    },
    {
      "cell_type": "code",
      "execution_count": null,
      "metadata": {
        "id": "-2inM9SYvSIF"
      },
      "outputs": [],
      "source": [
        "retail_df.head()"
      ]
    },
    {
      "cell_type": "code",
      "execution_count": null,
      "metadata": {
        "id": "cEC5Qvm4vSIF"
      },
      "outputs": [],
      "source": [
        "# recency\n",
        "# convert to datetime\n",
        "retail_df['InvoiceDate'] = pd.to_datetime(retail_df['InvoiceDate'], \n",
        "                                          format='%d-%m-%Y %H:%M')"
      ]
    },
    {
      "cell_type": "code",
      "execution_count": null,
      "metadata": {
        "id": "Jbn_DpDAvSIF"
      },
      "outputs": [],
      "source": [
        "retail_df.head()"
      ]
    },
    {
      "cell_type": "code",
      "execution_count": null,
      "metadata": {
        "id": "heAiAR4cvSIF"
      },
      "outputs": [],
      "source": [
        "# compute the max date\n",
        "max_date = max(retail_df['InvoiceDate'])\n",
        "max_date"
      ]
    },
    {
      "cell_type": "code",
      "execution_count": null,
      "metadata": {
        "id": "8TvzDrq6vSIG"
      },
      "outputs": [],
      "source": [
        "# compute the diff\n",
        "retail_df['diff'] = max_date - retail_df['InvoiceDate']\n",
        "retail_df.head()"
      ]
    },
    {
      "cell_type": "code",
      "execution_count": null,
      "metadata": {
        "id": "f7VVKMsrvSIG"
      },
      "outputs": [],
      "source": [
        "# recency\n",
        "last_purchase = retail_df.groupby('CustomerID')['diff'].min()\n",
        "last_purchase = last_purchase.reset_index()\n",
        "last_purchase.head()"
      ]
    },
    {
      "cell_type": "code",
      "execution_count": null,
      "metadata": {
        "id": "56BGNYoavSIG"
      },
      "outputs": [],
      "source": [
        "# merge\n",
        "grouped_df = pd.merge(grouped_df, last_purchase, on='CustomerID', how='inner')\n",
        "grouped_df.columns = ['CustomerID', 'amount', 'frequency', 'recency']\n",
        "grouped_df.head()"
      ]
    },
    {
      "cell_type": "code",
      "execution_count": null,
      "metadata": {
        "id": "tyMnsSwRvSIG"
      },
      "outputs": [],
      "source": [
        "# number of days only\n",
        "grouped_df['recency'] = grouped_df['recency'].dt.days\n",
        "grouped_df.head()"
      ]
    },
    {
      "cell_type": "code",
      "execution_count": null,
      "metadata": {
        "id": "4wZ6caBrvSIG"
      },
      "outputs": [],
      "source": []
    },
    {
      "cell_type": "code",
      "execution_count": null,
      "metadata": {
        "id": "hfeeHhaHvSIH"
      },
      "outputs": [],
      "source": [
        "# rescaling\n",
        "rfm_df = grouped_df[['amount', 'frequency', 'recency']]\n",
        "\n",
        "# instantiate\n",
        "scaler = StandardScaler()\n",
        "\n",
        "# fit_transform\n",
        "rfm_df_scaled = scaler.fit_transform(rfm_df)\n",
        "rfm_df_scaled.shape"
      ]
    },
    {
      "cell_type": "code",
      "execution_count": null,
      "metadata": {
        "id": "FS-Xb7kJvSIH"
      },
      "outputs": [],
      "source": [
        "rfm_df_scaled = pd.DataFrame(rfm_df_scaled)\n",
        "rfm_df_scaled.columns = ['amount', 'frequency', 'recency']\n",
        "rfm_df_scaled.head()"
      ]
    },
    {
      "cell_type": "markdown",
      "metadata": {
        "id": "qynIwDHpvSIH"
      },
      "source": [
        "# 4. Modelling"
      ]
    },
    {
      "cell_type": "code",
      "execution_count": null,
      "metadata": {
        "id": "9lF-X4bYvSIH"
      },
      "outputs": [],
      "source": [
        "# k-means with some arbitrary k\n",
        "kmeans = KMeans(n_clusters=4, max_iter=50)\n",
        "kmeans.fit(rfm_df_scaled)"
      ]
    },
    {
      "cell_type": "code",
      "execution_count": null,
      "metadata": {
        "id": "llwtUoFfvSII"
      },
      "outputs": [],
      "source": [
        "kmeans.labels_"
      ]
    },
    {
      "cell_type": "code",
      "execution_count": null,
      "metadata": {
        "id": "NsNBqMkSvSII"
      },
      "outputs": [],
      "source": [
        "# help(KMeans)"
      ]
    },
    {
      "cell_type": "markdown",
      "metadata": {
        "id": "dfx2a_LhvSII"
      },
      "source": [
        "## Finding the Optimal Number of Clusters\n",
        "\n",
        "### SSD"
      ]
    },
    {
      "cell_type": "code",
      "execution_count": null,
      "metadata": {
        "id": "Cslo2iOcvSII"
      },
      "outputs": [],
      "source": [
        "# elbow-curve/SSD\n",
        "ssd = []\n",
        "range_n_clusters = [2, 3, 4, 5, 6, 7, 8]\n",
        "for num_clusters in range_n_clusters:\n",
        "    kmeans = KMeans(n_clusters=num_clusters, max_iter=50)\n",
        "    kmeans.fit(rfm_df_scaled)\n",
        "    \n",
        "    ssd.append(kmeans.inertia_)\n",
        "    \n",
        "# plot the SSDs for each n_clusters\n",
        "ssd\n"
      ]
    },
    {
      "cell_type": "code",
      "source": [
        "plt.plot(ssd)"
      ],
      "metadata": {
        "id": "p5zsX4rG6YVE"
      },
      "execution_count": null,
      "outputs": []
    },
    {
      "cell_type": "markdown",
      "metadata": {
        "id": "cF-P6QECvSII"
      },
      "source": [
        "### Silhouette Analysis\n",
        "\n",
        "$$\\text{silhouette score}=\\frac{p-q}{max(p,q)}$$\n",
        "\n",
        "$p$ is the mean distance to the points in the nearest cluster that the data point is not a part of\n",
        "\n",
        "$q$ is the mean intra-cluster distance to all the points in its own cluster.\n",
        "\n",
        "* The value of the silhouette score range lies between -1 to 1. \n",
        "\n",
        "* A score closer to 1 indicates that the data point is very similar to other data points in the cluster, \n",
        "\n",
        "* A score closer to -1 indicates that the data point is not similar to the data points in its cluster."
      ]
    },
    {
      "cell_type": "code",
      "execution_count": null,
      "metadata": {
        "id": "5p6CsWF3vSII"
      },
      "outputs": [],
      "source": [
        "# silhouette analysis\n",
        "range_n_clusters = [2, 3, 4, 5, 6, 7, 8]\n",
        "\n",
        "for num_clusters in range_n_clusters:\n",
        "    \n",
        "    # intialise kmeans\n",
        "    kmeans = KMeans(n_clusters=num_clusters, max_iter=50)\n",
        "    kmeans.fit(rfm_df_scaled)\n",
        "    \n",
        "    cluster_labels = kmeans.labels_\n",
        "    \n",
        "    # silhouette score\n",
        "    silhouette_avg = silhouette_score(rfm_df_scaled, cluster_labels)\n",
        "    print(\"For n_clusters={0}, the silhouette score is {1}\".format(num_clusters, silhouette_avg))\n",
        "    \n",
        "    "
      ]
    },
    {
      "cell_type": "code",
      "execution_count": null,
      "metadata": {
        "id": "0a5BcuVzvSIJ"
      },
      "outputs": [],
      "source": [
        "\n",
        "# final model with k=3\n",
        "\n",
        "kmeans = KMeans(n_clusters=3, max_iter=50)\n",
        "kmeans.fit(rfm_df_scaled)"
      ]
    },
    {
      "cell_type": "code",
      "execution_count": null,
      "metadata": {
        "id": "06LZ5IbEvSIJ"
      },
      "outputs": [],
      "source": [
        "kmeans.labels_"
      ]
    },
    {
      "cell_type": "code",
      "execution_count": null,
      "metadata": {
        "id": "ImMgoBoRvSIJ"
      },
      "outputs": [],
      "source": [
        "# assign the label\n",
        "grouped_df['cluster_id'] = kmeans.labels_\n",
        "grouped_df.head()"
      ]
    },
    {
      "cell_type": "code",
      "execution_count": null,
      "metadata": {
        "id": "G0EaC4wJvSIJ"
      },
      "outputs": [],
      "source": [
        "# plot\n",
        "sns.boxplot(x='cluster_id', y='amount', data=grouped_df)"
      ]
    },
    {
      "cell_type": "code",
      "source": [
        "sns.boxplot(x='cluster_id', y='recency', data=grouped_df)"
      ],
      "metadata": {
        "id": "s7xmHyrLA402"
      },
      "execution_count": null,
      "outputs": []
    },
    {
      "cell_type": "code",
      "source": [
        "sns.boxplot(x='cluster_id', y='frequency', data=grouped_df)"
      ],
      "metadata": {
        "id": "wuhCmcggBAS9"
      },
      "execution_count": null,
      "outputs": []
    },
    {
      "cell_type": "markdown",
      "metadata": {
        "id": "EfaGOi_PvSIJ"
      },
      "source": [
        "## Hierarchical Clustering"
      ]
    },
    {
      "cell_type": "code",
      "execution_count": null,
      "metadata": {
        "id": "krLZ2Ee7vSIJ"
      },
      "outputs": [],
      "source": [
        "rfm_df_scaled.head()"
      ]
    },
    {
      "cell_type": "code",
      "execution_count": null,
      "metadata": {
        "id": "0ZK-Se2NvSIK"
      },
      "outputs": [],
      "source": [
        "grouped_df.head()"
      ]
    },
    {
      "cell_type": "code",
      "execution_count": null,
      "metadata": {
        "id": "slDcdjMYvSIK"
      },
      "outputs": [],
      "source": [
        "# single linkage\n",
        "mergings = linkage(rfm_df_scaled, method=\"single\", metric='euclidean')\n",
        "dendrogram(mergings)\n",
        "plt.show()"
      ]
    },
    {
      "cell_type": "code",
      "execution_count": null,
      "metadata": {
        "id": "UjWp_F5bvSIK"
      },
      "outputs": [],
      "source": [
        "# complete linkage\n",
        "mergings = linkage(rfm_df_scaled, method=\"complete\", metric='euclidean')\n",
        "dendrogram(mergings)\n",
        "plt.show()"
      ]
    },
    {
      "cell_type": "code",
      "execution_count": null,
      "metadata": {
        "id": "_DvOaUNQvSIK"
      },
      "outputs": [],
      "source": [
        "# 3 clusters\n",
        "cluster_labels = cut_tree(mergings, n_clusters=3).reshape(-1, )\n",
        "cluster_labels"
      ]
    },
    {
      "cell_type": "code",
      "execution_count": null,
      "metadata": {
        "id": "sSRTnqjpvSIK"
      },
      "outputs": [],
      "source": [
        "# assign cluster labels\n",
        "grouped_df['cluster_labels'] = cluster_labels\n",
        "grouped_df.head(10)"
      ]
    },
    {
      "cell_type": "code",
      "execution_count": null,
      "metadata": {
        "id": "jNgtFlBzvSIK"
      },
      "outputs": [],
      "source": [
        "# plots\n",
        "sns.boxplot(x='cluster_labels', y='recency', data=grouped_df)"
      ]
    },
    {
      "cell_type": "code",
      "execution_count": null,
      "metadata": {
        "id": "uxJ3R4rNvSIK"
      },
      "outputs": [],
      "source": [
        "# plots\n",
        "sns.boxplot(x='cluster_labels', y='frequency', data=grouped_df)"
      ]
    },
    {
      "cell_type": "code",
      "execution_count": null,
      "metadata": {
        "id": "ou4g6UfavSIL"
      },
      "outputs": [],
      "source": [
        "# plots\n",
        "sns.boxplot(x='cluster_labels', y='amount', data=grouped_df)"
      ]
    }
  ],
  "metadata": {
    "kernelspec": {
      "display_name": "Python 3",
      "language": "python",
      "name": "python3"
    },
    "language_info": {
      "codemirror_mode": {
        "name": "ipython",
        "version": 3
      },
      "file_extension": ".py",
      "mimetype": "text/x-python",
      "name": "python",
      "nbconvert_exporter": "python",
      "pygments_lexer": "ipython3",
      "version": "3.6.5"
    },
    "colab": {
      "provenance": [],
      "include_colab_link": true
    }
  },
  "nbformat": 4,
  "nbformat_minor": 0
}