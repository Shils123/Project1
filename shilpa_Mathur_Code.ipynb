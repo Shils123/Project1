{
 "cells": [
  {
   "cell_type": "markdown",
   "metadata": {},
   "source": [
    "# Gesture Recognition\n",
    "In this group project, you are going to build a 3D Conv model that will be able to predict the 5 gestures correctly. Please import the following libraries to get started."
   ]
  },
  {
   "cell_type": "code",
   "execution_count": 65,
   "metadata": {},
   "outputs": [],
   "source": [
    "import numpy as np\n",
    "import os\n",
    "from imageio import imread \n",
    "from skimage.transform import resize\n",
    "import datetime\n",
    "import os\n",
    "import tensorflow.keras\n"
   ]
  },
  {
   "cell_type": "code",
   "execution_count": 66,
   "metadata": {},
   "outputs": [],
   "source": [
    "import cv2\n",
    "import matplotlib.pyplot as plt\n"
   ]
  },
  {
   "cell_type": "markdown",
   "metadata": {},
   "source": [
    "We set the random seed so that the results don't vary drastically."
   ]
  },
  {
   "cell_type": "code",
   "execution_count": 67,
   "metadata": {},
   "outputs": [],
   "source": [
    "np.random.seed(30)\n",
    "import random as rn\n",
    "rn.seed(30)\n",
    "from tensorflow.keras import backend as K\n",
    "import tensorflow as tf\n",
    "#tf.set_random_seed(30)\n",
    "tf.random.set_seed(30) "
   ]
  },
  {
   "cell_type": "code",
   "execution_count": 68,
   "metadata": {},
   "outputs": [
    {
     "name": "stdout",
     "output_type": "stream",
     "text": [
      "/home/Project\n"
     ]
    }
   ],
   "source": [
    "cwd = os. getcwd()\n",
    "print(cwd)"
   ]
  },
  {
   "cell_type": "markdown",
   "metadata": {},
   "source": [
    "In this block, you read the folder names for training and validation. You also set the `batch_size` here. Note that you set the batch size in such a way that you are able to use the GPU in full capacity. You keep increasing the batch size until the machine throws an error."
   ]
  },
  {
   "cell_type": "code",
   "execution_count": 69,
   "metadata": {},
   "outputs": [],
   "source": [
    "project_folder='/home/Project'\n",
    "train_doc = np.random.permutation(open(project_folder + '/' + 'train.csv').readlines())\n",
    "val_doc = np.random.permutation(open(project_folder + '/' +'val.csv').readlines())\n",
    "batch_size = 29\n",
    "\n"
   ]
  },
  {
   "cell_type": "code",
   "execution_count": 70,
   "metadata": {},
   "outputs": [
    {
     "data": {
      "text/plain": [
       "33"
      ]
     },
     "execution_count": 70,
     "metadata": {},
     "output_type": "execute_result"
    }
   ],
   "source": [
    "train_path = '/home/datasets/Project_data/train'\n",
    "len(train_path)"
   ]
  },
  {
   "cell_type": "code",
   "execution_count": 71,
   "metadata": {},
   "outputs": [],
   "source": [
    "def plot(history):\n",
    "    fig, axes = plt.subplots(nrows=1, ncols=2, figsize=(15,4))\n",
    "    axes[0].plot(history.history['loss'])   \n",
    "    axes[0].plot(history.history['val_loss'])\n",
    "    axes[0].legend(['loss','val_loss'])\n",
    "\n",
    "    axes[1].plot(history.history['categorical_accuracy'])   \n",
    "    axes[1].plot(history.history['val_categorical_accuracy'])\n",
    "    axes[1].legend(['categorical_accuracy','val_categorical_accuracy'])"
   ]
  },
  {
   "cell_type": "markdown",
   "metadata": {},
   "source": [
    "## Generator\n",
    "This is one of the most important part of the code. The overall structure of the generator has been given. In the generator, you are going to preprocess the images as you have images of 2 different dimensions as well as create a batch of video frames. You have to experiment with `img_idx`, `y`,`z` and normalization such that you get high accuracy."
   ]
  },
  {
   "cell_type": "code",
   "execution_count": 72,
   "metadata": {},
   "outputs": [],
   "source": [
    "def generator(source_path, folder_list, batch_size):\n",
    "    print( 'Source path = ', source_path, '; batch size =', batch_size)\n",
    "    img_idx = [11,12,13,14,15,16,17,18,19,20,21,22,23,24,25,26,27,28]#create a list of image numbers you want to use for a particular video\n",
    "    while True:\n",
    "        t = np.random.permutation(folder_list)\n",
    "        num_batches = len(source_path)//batch_size# calculate the number of batches\n",
    "        for batch in range(num_batches): # we iterate over the number of batches\n",
    "            batch_data = np.zeros((batch_size,28,100,100,3)) # x is the number of images you use for each video, (y,z) is the final size of the input images and 3 is the number of channels RGB\n",
    "            batch_labels = np.zeros((batch_size,5)) # batch_labels is the one hot representation of the output\n",
    "            for folder in range(batch_size): # iterate over the batch_size\n",
    "                imgs = os.listdir(source_path+'/'+ t[folder + (batch*batch_size)].split(';')[0]) # read all the images in the folder\n",
    "                for idx,item in enumerate(img_idx): #  Iterate iver the frames/images of a folder to read them in\n",
    "                    image = imread(source_path+'/'+ t[folder + (batch*batch_size)].strip().split(';')[0]+'/'+imgs[item]).astype(np.float32)\n",
    "                    \n",
    "                    #crop the images and resize them. Note that the images are of 2 different shape \n",
    "                    #and the conv3D will throw error if the inputs in a batch have different shapes\n",
    "                    image = image.resize(120,120)\n",
    "                    batch_data[folder,idx,:,:,0] /= 255 #normalise and feed in the image\n",
    "                    batch_data[folder,idx,:,:,1] /= 255 #normalise and feed in the image\n",
    "                    batch_data[folder,idx,:,:,2] /= 255 #normalise and feed in the image\n",
    "                    \n",
    "                batch_labels[folder, int(t[folder + (batch*batch_size)].strip().split(';')[2])] = 1\n",
    "            yield batch_data, batch_labels #you yield the batch_data and the batch_labels, remember what does yield do\n",
    "\n",
    "        \n",
    "        # write the code for the remaining data points which are left after full batches\n",
    "    if((len(source_path)%batch_size)//2==0):\n",
    "        batch_size = 2\n",
    "    else:\n",
    "        batch_size = 1\n",
    "        num_batches = len(source_path)%batch_size # calculate the number of batches\n",
    "        for batch in range(num_batches): # we iterate over the number of batches\n",
    "            batch_data = np.zeros((batch_size,28,100,100,3)) # x is the number of images you use for each video, (y,z) is the final size of the input images and 3 is the number of channels RGB\n",
    "            batch_labels = np.zeros((batch_size,5)) # batch_labels is the one hot representation of the output\n",
    "            for folder in range(batch_size): # iterate over the batch_size\n",
    "                imgs = os.listdir(source_path+'/'+ t[folder + (batch*batch_size)].split(';')[0]) # read all the images in the folder\n",
    "                for idx,item in enumerate(img_idx): #  Iterate iver the frames/images of a folder to read them in\n",
    "                    image = imageio.imread(source_path+'/'+ t[folder + (batch*batch_size)].strip().split(';')[0]+'/'+imgs[item]).astype(np.float32)\n",
    "                    \n",
    "                    \n",
    "                    \n",
    "                    # Cropped image of above dimension \n",
    "                    # (It will not change orginal image) \n",
    "                    \n",
    "                    #image = image.crop((0, 0, 120, 120))\n",
    "                    image = image.resize(120, 120)\n",
    "                    \n",
    "                    \n",
    "                    #crop the images and resize them. Note that the images are of 2 different shape \n",
    "                    #and the conv3D will throw error if the inputs in a batch have different shapes\n",
    "                    \n",
    "                    batch_data[folder,idx,:,:,0] /= 255\n",
    "                    batch_data[folder,idx,:,:,1] /= 255 #normalise and feed in the image\n",
    "                    batch_data[folder,idx,:,:,2] /= 255 #normalise and feed in the image\n",
    "                    \n",
    "                batch_labels[folder, int(t[folder + (batch*batch_size)].strip().split(';')[2])] = 1\n",
    "            yield batch_data, batch_labels #you yield the batch_data and the batch_labels, remember what does yield do\n"
   ]
  },
  {
   "cell_type": "markdown",
   "metadata": {},
   "source": [
    "Note here that a video is represented above in the generator as (number of images, height, width, number of channels). Take this into consideration while creating the model architecture."
   ]
  },
  {
   "cell_type": "code",
   "execution_count": 73,
   "metadata": {},
   "outputs": [
    {
     "name": "stdout",
     "output_type": "stream",
     "text": [
      "# training sequences = 663\n",
      "# validation sequences = 100\n",
      "# epochs = 15\n"
     ]
    }
   ],
   "source": [
    "curr_dt_time = datetime.datetime.now()\n",
    "train_path = '/home/datasets/Project_data/train'\n",
    "val_path = '/home/datasets/Project_data/val'\n",
    "num_train_sequences = len(train_doc)\n",
    "print('# training sequences =', num_train_sequences)\n",
    "num_val_sequences = len(val_doc)\n",
    "print('# validation sequences =', num_val_sequences)\n",
    "num_epochs = 15 # choose the number of epochs\n",
    "print ('# epochs =', num_epochs)"
   ]
  },
  {
   "cell_type": "markdown",
   "metadata": {},
   "source": [
    "## Model\n",
    "Here you make the model using different functionalities that Keras provides. Remember to use `Conv3D` and `MaxPooling3D` and not `Conv2D` and `Maxpooling2D` for a 3D convolution model. You would want to use `TimeDistributed` while building a Conv2D + RNN model. Also remember that the last layer is the softmax. Design the network in such a way that the model is able to give good accuracy on the least number of parameters so that it can fit in the memory of the webcam."
   ]
  },
  {
   "cell_type": "code",
   "execution_count": 74,
   "metadata": {},
   "outputs": [],
   "source": [
    "from tensorflow.keras.models import Sequential, Model\n",
    "from tensorflow.keras.layers import Dense, GRU, Flatten, TimeDistributed, Flatten, BatchNormalization, Activation\n",
    "from tensorflow.keras.layers import Conv3D, MaxPooling3D\n",
    "from tensorflow.keras.callbacks import ModelCheckpoint, ReduceLROnPlateau\n",
    "from tensorflow.keras import optimizers\n",
    "from tensorflow.keras.layers import Dropout\n",
    "\n",
    "#write your model here\n",
    "#write your model here\n",
    "Input_shape = (28, 100, 100, 3)\n",
    "model = Sequential()\n",
    "model.add(Conv3D(32, (3,3,3), padding='same',\n",
    "                 input_shape=Input_shape))\n",
    "#model.add(Conv3D(32, kernel_size=(3, 3, 3), activation='relu', kernel_initializer='he_uniform', input_shape=sample_shape))\n",
    "model.add(Activation('relu'))\n",
    "model.add(BatchNormalization())\n",
    "model.add(Conv3D(32, (3, 3,3)))\n",
    "model.add(Activation('relu'))\n",
    "model.add(BatchNormalization())\n",
    "model.add(MaxPooling3D(pool_size=(2, 2,2)))\n",
    "model.add(Dropout(0.5))\n",
    "\n",
    "model.add(Conv3D(64, (3, 3,3), padding='same'))\n",
    "model.add(Activation('relu'))\n",
    "model.add(BatchNormalization())\n",
    "model.add(Conv3D(64, (3, 3,3)))\n",
    "model.add(Activation('relu'))\n",
    "model.add(BatchNormalization())\n",
    "model.add(MaxPooling3D(pool_size=(2, 2,2)))\n",
    "model.add(Dropout(0.5))\n",
    "model.add(Flatten())\n",
    "model.add(Dense(512))\n",
    "model.add(Activation('relu'))\n",
    "model.add(Dropout(0.5))\n",
    "model.add(Dense(5))\n",
    "model.add(Activation('softmax'))"
   ]
  },
  {
   "cell_type": "code",
   "execution_count": 75,
   "metadata": {},
   "outputs": [
    {
     "name": "stdout",
     "output_type": "stream",
     "text": [
      "Total Params: 86871525\n"
     ]
    }
   ],
   "source": [
    "print(\"Total Params:\", model.count_params())"
   ]
  },
  {
   "cell_type": "code",
   "execution_count": 76,
   "metadata": {},
   "outputs": [
    {
     "name": "stdout",
     "output_type": "stream",
     "text": [
      "Model: \"sequential_6\"\n",
      "_________________________________________________________________\n",
      "Layer (type)                 Output Shape              Param #   \n",
      "=================================================================\n",
      "conv3d_20 (Conv3D)           (None, 28, 100, 100, 32)  2624      \n",
      "_________________________________________________________________\n",
      "activation_26 (Activation)   (None, 28, 100, 100, 32)  0         \n",
      "_________________________________________________________________\n",
      "batch_normalization_26 (Batc (None, 28, 100, 100, 32)  128       \n",
      "_________________________________________________________________\n",
      "conv3d_21 (Conv3D)           (None, 26, 98, 98, 32)    27680     \n",
      "_________________________________________________________________\n",
      "activation_27 (Activation)   (None, 26, 98, 98, 32)    0         \n",
      "_________________________________________________________________\n",
      "batch_normalization_27 (Batc (None, 26, 98, 98, 32)    128       \n",
      "_________________________________________________________________\n",
      "max_pooling3d_10 (MaxPooling (None, 13, 49, 49, 32)    0         \n",
      "_________________________________________________________________\n",
      "dropout_14 (Dropout)         (None, 13, 49, 49, 32)    0         \n",
      "_________________________________________________________________\n",
      "conv3d_22 (Conv3D)           (None, 13, 49, 49, 64)    55360     \n",
      "_________________________________________________________________\n",
      "activation_28 (Activation)   (None, 13, 49, 49, 64)    0         \n",
      "_________________________________________________________________\n",
      "batch_normalization_28 (Batc (None, 13, 49, 49, 64)    256       \n",
      "_________________________________________________________________\n",
      "conv3d_23 (Conv3D)           (None, 11, 47, 47, 64)    110656    \n",
      "_________________________________________________________________\n",
      "activation_29 (Activation)   (None, 11, 47, 47, 64)    0         \n",
      "_________________________________________________________________\n",
      "batch_normalization_29 (Batc (None, 11, 47, 47, 64)    256       \n",
      "_________________________________________________________________\n",
      "max_pooling3d_11 (MaxPooling (None, 5, 23, 23, 64)     0         \n",
      "_________________________________________________________________\n",
      "dropout_15 (Dropout)         (None, 5, 23, 23, 64)     0         \n",
      "_________________________________________________________________\n",
      "flatten_6 (Flatten)          (None, 169280)            0         \n",
      "_________________________________________________________________\n",
      "dense_12 (Dense)             (None, 512)               86671872  \n",
      "_________________________________________________________________\n",
      "activation_30 (Activation)   (None, 512)               0         \n",
      "_________________________________________________________________\n",
      "dropout_16 (Dropout)         (None, 512)               0         \n",
      "_________________________________________________________________\n",
      "dense_13 (Dense)             (None, 5)                 2565      \n",
      "_________________________________________________________________\n",
      "activation_31 (Activation)   (None, 5)                 0         \n",
      "=================================================================\n",
      "Total params: 86,871,525\n",
      "Trainable params: 86,871,141\n",
      "Non-trainable params: 384\n",
      "_________________________________________________________________\n",
      "None\n"
     ]
    }
   ],
   "source": [
    "optimiser = optimizers.Adam(lr=0.0002) #write your optimizer\n",
    "model.compile(optimizer=optimiser, loss='categorical_crossentropy', metrics=['categorical_accuracy'])\n",
    "print (model.summary())"
   ]
  },
  {
   "cell_type": "code",
   "execution_count": 77,
   "metadata": {},
   "outputs": [],
   "source": [
    "train_generator = generator(train_path, train_doc, batch_size)\n",
    "val_generator = generator(val_path, val_doc, batch_size)"
   ]
  },
  {
   "cell_type": "code",
   "execution_count": 78,
   "metadata": {},
   "outputs": [],
   "source": [
    "if (num_train_sequences%batch_size) == 0:\n",
    "    steps_per_epoch = int(num_train_sequences/batch_size)\n",
    "else:\n",
    "    steps_per_epoch = (num_train_sequences//batch_size) + 1\n",
    "\n",
    "if (num_val_sequences%batch_size) == 0:\n",
    "    validation_steps = int(num_val_sequences/batch_size)\n",
    "else:\n",
    "    validation_steps = (num_val_sequences//batch_size) + 1"
   ]
  },
  {
   "cell_type": "code",
   "execution_count": 79,
   "metadata": {},
   "outputs": [
    {
     "name": "stdout",
     "output_type": "stream",
     "text": [
      "WARNING:tensorflow:`period` argument is deprecated. Please use `save_freq` to specify the frequency in number of batches seen.\n",
      "WARNING:tensorflow:`epsilon` argument is deprecated and will be removed, use `min_delta` instead.\n"
     ]
    }
   ],
   "source": [
    "model_name = 'model_init1' + '_' + str(curr_dt_time).replace(' ','').replace(':','_') + '/'\n",
    "    \n",
    "if not os.path.exists(model_name):\n",
    "    os.mkdir(model_name)\n",
    "        \n",
    "filepath = model_name + 'model-{epoch:05d}-{loss:.5f}-{categorical_accuracy:.5f}-{val_loss:.5f}-{val_categorical_accuracy:.5f}.h5'\n",
    "\n",
    "checkpoint = ModelCheckpoint(filepath, monitor='val_loss', verbose=1, save_best_only=False, save_weights_only=False, mode='auto', period=1)\n",
    "\n",
    "# write the REducelronplateau code here\n",
    "LR = ReduceLROnPlateau(monitor = \"val_loss\", factor = 0.1, patience = 10,\n",
    "  verbose = 0, mode = \"auto\", epsilon = 1e-04, cooldown = 0,\n",
    "  min_lr = 0)\n",
    "callbacks_list = [checkpoint, LR]"
   ]
  },
  {
   "cell_type": "code",
   "execution_count": 80,
   "metadata": {},
   "outputs": [
    {
     "name": "stdout",
     "output_type": "stream",
     "text": [
      "Source path =  /home/datasets/Project_data/train ; batch size = 29\n",
      "Epoch 1/15\n",
      "23/23 [==============================] - ETA: 0s - loss: 1.6094 - categorical_accuracy: 0.2219Source path =  /home/datasets/Project_data/val ; batch size = 29\n",
      "\n",
      "Epoch 00001: saving model to model_init1_2022-03-3016_46_46.866775/model-00001-1.60938-0.22189-1.60926-0.23276.h5\n",
      "23/23 [==============================] - 42s 2s/step - loss: 1.6094 - categorical_accuracy: 0.2219 - val_loss: 1.6093 - val_categorical_accuracy: 0.2328\n",
      "Epoch 2/15\n",
      "23/23 [==============================] - ETA: 0s - loss: 1.6094 - categorical_accuracy: 0.2009\n",
      "Epoch 00002: saving model to model_init1_2022-03-3016_46_46.866775/model-00002-1.60943-0.20090-1.60930-0.18966.h5\n",
      "23/23 [==============================] - 42s 2s/step - loss: 1.6094 - categorical_accuracy: 0.2009 - val_loss: 1.6093 - val_categorical_accuracy: 0.1897\n",
      "Epoch 3/15\n",
      "23/23 [==============================] - ETA: 0s - loss: 1.6094 - categorical_accuracy: 0.1889\n",
      "Epoch 00003: saving model to model_init1_2022-03-3016_46_46.866775/model-00003-1.60937-0.18891-1.60944-0.18103.h5\n",
      "23/23 [==============================] - 41s 2s/step - loss: 1.6094 - categorical_accuracy: 0.1889 - val_loss: 1.6094 - val_categorical_accuracy: 0.1810\n",
      "Epoch 4/15\n",
      "23/23 [==============================] - ETA: 0s - loss: 1.6093 - categorical_accuracy: 0.2144\n",
      "Epoch 00004: saving model to model_init1_2022-03-3016_46_46.866775/model-00004-1.60935-0.21439-1.60905-0.25000.h5\n",
      "23/23 [==============================] - 41s 2s/step - loss: 1.6093 - categorical_accuracy: 0.2144 - val_loss: 1.6090 - val_categorical_accuracy: 0.2500\n",
      "Epoch 5/15\n",
      "23/23 [==============================] - ETA: 0s - loss: 1.6093 - categorical_accuracy: 0.2189\n",
      "Epoch 00005: saving model to model_init1_2022-03-3016_46_46.866775/model-00005-1.60933-0.21889-1.60853-0.29310.h5\n",
      "23/23 [==============================] - 40s 2s/step - loss: 1.6093 - categorical_accuracy: 0.2189 - val_loss: 1.6085 - val_categorical_accuracy: 0.2931\n",
      "Epoch 6/15\n",
      "23/23 [==============================] - ETA: 0s - loss: 1.6094 - categorical_accuracy: 0.1964\n",
      "Epoch 00006: saving model to model_init1_2022-03-3016_46_46.866775/model-00006-1.60940-0.19640-1.60918-0.21552.h5\n",
      "23/23 [==============================] - 41s 2s/step - loss: 1.6094 - categorical_accuracy: 0.1964 - val_loss: 1.6092 - val_categorical_accuracy: 0.2155\n",
      "Epoch 7/15\n",
      "23/23 [==============================] - ETA: 0s - loss: 1.6094 - categorical_accuracy: 0.2069\n",
      "Epoch 00007: saving model to model_init1_2022-03-3016_46_46.866775/model-00007-1.60937-0.20690-1.60913-0.17241.h5\n",
      "23/23 [==============================] - 42s 2s/step - loss: 1.6094 - categorical_accuracy: 0.2069 - val_loss: 1.6091 - val_categorical_accuracy: 0.1724\n",
      "Epoch 8/15\n",
      "23/23 [==============================] - ETA: 0s - loss: 1.6091 - categorical_accuracy: 0.2309\n",
      "Epoch 00008: saving model to model_init1_2022-03-3016_46_46.866775/model-00008-1.60909-0.23088-1.60845-0.20690.h5\n",
      "23/23 [==============================] - 41s 2s/step - loss: 1.6091 - categorical_accuracy: 0.2309 - val_loss: 1.6085 - val_categorical_accuracy: 0.2069\n",
      "Epoch 9/15\n",
      "23/23 [==============================] - ETA: 0s - loss: 1.6090 - categorical_accuracy: 0.2009\n",
      "Epoch 00009: saving model to model_init1_2022-03-3016_46_46.866775/model-00009-1.60905-0.20090-1.60824-0.21552.h5\n",
      "23/23 [==============================] - 43s 2s/step - loss: 1.6090 - categorical_accuracy: 0.2009 - val_loss: 1.6082 - val_categorical_accuracy: 0.2155\n",
      "Epoch 10/15\n",
      "23/23 [==============================] - ETA: 0s - loss: 1.6093 - categorical_accuracy: 0.2099\n",
      "Epoch 00010: saving model to model_init1_2022-03-3016_46_46.866775/model-00010-1.60930-0.20990-1.60937-0.23276.h5\n",
      "23/23 [==============================] - 42s 2s/step - loss: 1.6093 - categorical_accuracy: 0.2099 - val_loss: 1.6094 - val_categorical_accuracy: 0.2328\n",
      "Epoch 11/15\n",
      "23/23 [==============================] - ETA: 0s - loss: 1.6094 - categorical_accuracy: 0.2144\n",
      "Epoch 00011: saving model to model_init1_2022-03-3016_46_46.866775/model-00011-1.60942-0.21439-1.60963-0.16379.h5\n",
      "23/23 [==============================] - 42s 2s/step - loss: 1.6094 - categorical_accuracy: 0.2144 - val_loss: 1.6096 - val_categorical_accuracy: 0.1638\n",
      "Epoch 12/15\n",
      "23/23 [==============================] - ETA: 0s - loss: 1.6092 - categorical_accuracy: 0.1874\n",
      "Epoch 00012: saving model to model_init1_2022-03-3016_46_46.866775/model-00012-1.60917-0.18741-1.60796-0.25862.h5\n",
      "23/23 [==============================] - 43s 2s/step - loss: 1.6092 - categorical_accuracy: 0.1874 - val_loss: 1.6080 - val_categorical_accuracy: 0.2586\n",
      "Epoch 13/15\n",
      "23/23 [==============================] - ETA: 0s - loss: 1.6086 - categorical_accuracy: 0.2129\n",
      "Epoch 00013: saving model to model_init1_2022-03-3016_46_46.866775/model-00013-1.60859-0.21289-1.60903-0.20690.h5\n",
      "23/23 [==============================] - 43s 2s/step - loss: 1.6086 - categorical_accuracy: 0.2129 - val_loss: 1.6090 - val_categorical_accuracy: 0.2069\n",
      "Epoch 14/15\n",
      "23/23 [==============================] - ETA: 0s - loss: 1.6089 - categorical_accuracy: 0.1844\n",
      "Epoch 00014: saving model to model_init1_2022-03-3016_46_46.866775/model-00014-1.60895-0.18441-1.60841-0.16379.h5\n",
      "23/23 [==============================] - 43s 2s/step - loss: 1.6089 - categorical_accuracy: 0.1844 - val_loss: 1.6084 - val_categorical_accuracy: 0.1638\n",
      "Epoch 15/15\n",
      "23/23 [==============================] - ETA: 0s - loss: 1.6089 - categorical_accuracy: 0.2219\n",
      "Epoch 00015: saving model to model_init1_2022-03-3016_46_46.866775/model-00015-1.60891-0.22189-1.61048-0.14655.h5\n",
      "23/23 [==============================] - 41s 2s/step - loss: 1.6089 - categorical_accuracy: 0.2219 - val_loss: 1.6105 - val_categorical_accuracy: 0.1466\n"
     ]
    }
   ],
   "source": [
    "history = model.fit(train_generator, steps_per_epoch=steps_per_epoch, epochs=num_epochs, verbose=1, \n",
    "                    callbacks=callbacks_list, validation_data=val_generator, \n",
    "                    validation_steps=validation_steps, class_weight=None, workers=1, initial_epoch=0)"
   ]
  },
  {
   "cell_type": "code",
   "execution_count": 81,
   "metadata": {},
   "outputs": [
    {
     "data": {
      "image/png": "[encoded data removed]",
      "text/plain": [
       "<Figure size 1080x288 with 2 Axes>"
      ]
     },
     "metadata": {
      "needs_background": "light"
     },
     "output_type": "display_data"
    }
   ],
   "source": [
    "plot(history)"
   ]
  },
  {
   "cell_type": "code",
   "execution_count": 82,
   "metadata": {},
   "outputs": [],
   "source": [
    "#Reduced number of parameters\n",
    "\n",
    "from tensorflow.keras.models import Sequential, Model\n",
    "from tensorflow.keras.layers import Dense, GRU, Flatten, TimeDistributed, Flatten, BatchNormalization, Activation\n",
    "from tensorflow.keras.layers import Conv3D, MaxPooling3D\n",
    "from tensorflow.keras.callbacks import ModelCheckpoint, ReduceLROnPlateau\n",
    "from tensorflow.keras import optimizers\n",
    "from tensorflow.keras.layers import Dropout\n",
    "from tensorflow.keras.layers import Dense, GRU, Flatten, TimeDistributed, Flatten, BatchNormalization, Activation\n",
    "\n",
    "Input_shape = (28, 100, 100, 3)\n",
    "filtersize=(3,3,3)\n",
    "dense_neurons=64\n",
    "dropout=0.25\n",
    "\n",
    "model = Sequential()\n",
    "model.add(Conv3D(16, filtersize, padding='same',\n",
    "          input_shape = Input_shape))\n",
    "model.add(Activation('relu'))\n",
    "model.add(BatchNormalization())\n",
    "       \n",
    "model.add(Conv3D(16, filtersize, padding='same',\n",
    "               input_shape=Input_shape))\n",
    "model.add(Activation('relu'))\n",
    "model.add(BatchNormalization())\n",
    "        \n",
    "model.add(MaxPooling3D(pool_size=(2, 2, 2)))\n",
    "\n",
    "model.add(Conv3D(32, filtersize, padding='same'))\n",
    "model.add(Activation('relu'))\n",
    "model.add(BatchNormalization())\n",
    "        \n",
    "model.add(Conv3D(32, filtersize, padding='same'))\n",
    "model.add(Activation('relu'))\n",
    "model.add(BatchNormalization())\n",
    "        \n",
    "model.add(MaxPooling3D(pool_size=(2, 2, 2)))\n",
    "\n",
    "model.add(Conv3D(64, filtersize, padding='same'))\n",
    "model.add(Activation('relu'))\n",
    "model.add(BatchNormalization())\n",
    "        \n",
    "model.add(Conv3D(64, filtersize, padding='same'))\n",
    "model.add(Activation('relu'))\n",
    "model.add(BatchNormalization())\n",
    "        \n",
    "model.add(MaxPooling3D(pool_size=(2, 2, 2)))\n",
    "\n",
    "model.add(Conv3D(128, filtersize, padding='same'))\n",
    "model.add(Activation('relu'))\n",
    "model.add(BatchNormalization())\n",
    "       \n",
    "model.add(Conv3D(128, filtersize, padding='same'))\n",
    "model.add(Activation('relu'))\n",
    "model.add(BatchNormalization())\n",
    "        \n",
    "model.add(MaxPooling3D(pool_size=(2, 2, 2)))\n",
    "        \n",
    "\n",
    "model.add(Flatten())\n",
    "model.add(Dense(dense_neurons,activation='relu'))\n",
    "model.add(BatchNormalization())\n",
    "model.add(Dropout(dropout))\n",
    "\n",
    "model.add(Dense(dense_neurons,activation='relu'))\n",
    "model.add(BatchNormalization())\n",
    "model.add(Dropout(dropout))\n",
    "\n",
    "\n",
    "model.add(Dense(5,activation='softmax'))\n",
    "\n"
   ]
  },
  {
   "cell_type": "code",
   "execution_count": 83,
   "metadata": {},
   "outputs": [
    {
     "name": "stdout",
     "output_type": "stream",
     "text": [
      "Total Params: 1181493\n"
     ]
    }
   ],
   "source": [
    "print(\"Total Params:\", model.count_params())"
   ]
  },
  {
   "cell_type": "markdown",
   "metadata": {},
   "source": [
    "Now that you have written the model, the next step is to `compile` the model. When you print the `summary` of the model, you'll see the total number of parameters you have to train."
   ]
  },
  {
   "cell_type": "code",
   "execution_count": 84,
   "metadata": {
    "scrolled": true
   },
   "outputs": [
    {
     "name": "stdout",
     "output_type": "stream",
     "text": [
      "Model: \"sequential_7\"\n",
      "_________________________________________________________________\n",
      "Layer (type)                 Output Shape              Param #   \n",
      "=================================================================\n",
      "conv3d_24 (Conv3D)           (None, 28, 100, 100, 16)  1312      \n",
      "_________________________________________________________________\n",
      "activation_32 (Activation)   (None, 28, 100, 100, 16)  0         \n",
      "_________________________________________________________________\n",
      "batch_normalization_30 (Batc (None, 28, 100, 100, 16)  64        \n",
      "_________________________________________________________________\n",
      "conv3d_25 (Conv3D)           (None, 28, 100, 100, 16)  6928      \n",
      "_________________________________________________________________\n",
      "activation_33 (Activation)   (None, 28, 100, 100, 16)  0         \n",
      "_________________________________________________________________\n",
      "batch_normalization_31 (Batc (None, 28, 100, 100, 16)  64        \n",
      "_________________________________________________________________\n",
      "max_pooling3d_12 (MaxPooling (None, 14, 50, 50, 16)    0         \n",
      "_________________________________________________________________\n",
      "conv3d_26 (Conv3D)           (None, 14, 50, 50, 32)    13856     \n",
      "_________________________________________________________________\n",
      "activation_34 (Activation)   (None, 14, 50, 50, 32)    0         \n",
      "_________________________________________________________________\n",
      "batch_normalization_32 (Batc (None, 14, 50, 50, 32)    128       \n",
      "_________________________________________________________________\n",
      "conv3d_27 (Conv3D)           (None, 14, 50, 50, 32)    27680     \n",
      "_________________________________________________________________\n",
      "activation_35 (Activation)   (None, 14, 50, 50, 32)    0         \n",
      "_________________________________________________________________\n",
      "batch_normalization_33 (Batc (None, 14, 50, 50, 32)    128       \n",
      "_________________________________________________________________\n",
      "max_pooling3d_13 (MaxPooling (None, 7, 25, 25, 32)     0         \n",
      "_________________________________________________________________\n",
      "conv3d_28 (Conv3D)           (None, 7, 25, 25, 64)     55360     \n",
      "_________________________________________________________________\n",
      "activation_36 (Activation)   (None, 7, 25, 25, 64)     0         \n",
      "_________________________________________________________________\n",
      "batch_normalization_34 (Batc (None, 7, 25, 25, 64)     256       \n",
      "_________________________________________________________________\n",
      "conv3d_29 (Conv3D)           (None, 7, 25, 25, 64)     110656    \n",
      "_________________________________________________________________\n",
      "activation_37 (Activation)   (None, 7, 25, 25, 64)     0         \n",
      "_________________________________________________________________\n",
      "batch_normalization_35 (Batc (None, 7, 25, 25, 64)     256       \n",
      "_________________________________________________________________\n",
      "max_pooling3d_14 (MaxPooling (None, 3, 12, 12, 64)     0         \n",
      "_________________________________________________________________\n",
      "conv3d_30 (Conv3D)           (None, 3, 12, 12, 128)    221312    \n",
      "_________________________________________________________________\n",
      "activation_38 (Activation)   (None, 3, 12, 12, 128)    0         \n",
      "_________________________________________________________________\n",
      "batch_normalization_36 (Batc (None, 3, 12, 12, 128)    512       \n",
      "_________________________________________________________________\n",
      "conv3d_31 (Conv3D)           (None, 3, 12, 12, 128)    442496    \n",
      "_________________________________________________________________\n",
      "activation_39 (Activation)   (None, 3, 12, 12, 128)    0         \n",
      "_________________________________________________________________\n",
      "batch_normalization_37 (Batc (None, 3, 12, 12, 128)    512       \n",
      "_________________________________________________________________\n",
      "max_pooling3d_15 (MaxPooling (None, 1, 6, 6, 128)      0         \n",
      "_________________________________________________________________\n",
      "flatten_7 (Flatten)          (None, 4608)              0         \n",
      "_________________________________________________________________\n",
      "dense_14 (Dense)             (None, 64)                294976    \n",
      "_________________________________________________________________\n",
      "batch_normalization_38 (Batc (None, 64)                256       \n",
      "_________________________________________________________________\n",
      "dropout_17 (Dropout)         (None, 64)                0         \n",
      "_________________________________________________________________\n",
      "dense_15 (Dense)             (None, 64)                4160      \n",
      "_________________________________________________________________\n",
      "batch_normalization_39 (Batc (None, 64)                256       \n",
      "_________________________________________________________________\n",
      "dropout_18 (Dropout)         (None, 64)                0         \n",
      "_________________________________________________________________\n",
      "dense_16 (Dense)             (None, 5)                 325       \n",
      "=================================================================\n",
      "Total params: 1,181,493\n",
      "Trainable params: 1,180,277\n",
      "Non-trainable params: 1,216\n",
      "_________________________________________________________________\n",
      "None\n"
     ]
    }
   ],
   "source": [
    "optimiser = optimizers.Adam(lr=0.0002) #write your optimizer\n",
    "model.compile(optimizer=optimiser, loss='categorical_crossentropy', metrics=['categorical_accuracy'])\n",
    "print (model.summary())"
   ]
  },
  {
   "cell_type": "markdown",
   "metadata": {},
   "source": [
    "Let us create the `train_generator` and the `val_generator` which will be used in `.fit_generator`."
   ]
  },
  {
   "cell_type": "code",
   "execution_count": 85,
   "metadata": {},
   "outputs": [],
   "source": [
    "train_generator = generator(train_path, train_doc, batch_size)\n",
    "val_generator = generator(val_path, val_doc, batch_size)"
   ]
  },
  {
   "cell_type": "code",
   "execution_count": 86,
   "metadata": {},
   "outputs": [
    {
     "name": "stdout",
     "output_type": "stream",
     "text": [
      "WARNING:tensorflow:`period` argument is deprecated. Please use `save_freq` to specify the frequency in number of batches seen.\n",
      "WARNING:tensorflow:`epsilon` argument is deprecated and will be removed, use `min_delta` instead.\n"
     ]
    }
   ],
   "source": [
    "model_name = 'model_init' + '_' + str(curr_dt_time).replace(' ','').replace(':','_') + '/'\n",
    "    \n",
    "if not os.path.exists(model_name):\n",
    "    os.mkdir(model_name)\n",
    "        \n",
    "filepath = model_name + 'model-{epoch:05d}-{loss:.5f}-{categorical_accuracy:.5f}-{val_loss:.5f}-{val_categorical_accuracy:.5f}.h5'\n",
    "\n",
    "checkpoint = ModelCheckpoint(filepath, monitor='val_loss', verbose=1, save_best_only=False, save_weights_only=False, mode='auto', period=1)\n",
    "\n",
    "# write the REducelronplateau code here\n",
    "LR = ReduceLROnPlateau(monitor = \"val_loss\", factor = 0.1, patience = 10,\n",
    "  verbose = 0, mode = \"auto\", epsilon = 1e-04, cooldown = 0,\n",
    "  min_lr = 0)\n",
    "callbacks_list = [checkpoint, LR]"
   ]
  },
  {
   "cell_type": "markdown",
   "metadata": {},
   "source": [
    "The `steps_per_epoch` and `validation_steps` are used by `fit_generator` to decide the number of next() calls it need to make."
   ]
  },
  {
   "cell_type": "code",
   "execution_count": 87,
   "metadata": {},
   "outputs": [],
   "source": [
    "if (num_train_sequences%batch_size) == 0:\n",
    "    steps_per_epoch = int(num_train_sequences/batch_size)\n",
    "else:\n",
    "    steps_per_epoch = (num_train_sequences//batch_size) + 1\n",
    "\n",
    "if (num_val_sequences%batch_size) == 0:\n",
    "    validation_steps = int(num_val_sequences/batch_size)\n",
    "else:\n",
    "    validation_steps = (num_val_sequences//batch_size) + 1"
   ]
  },
  {
   "cell_type": "markdown",
   "metadata": {},
   "source": [
    "Let us now fit the model. This will start training the model and with the help of the checkpoints, you'll be able to save the model at the end of each epoch."
   ]
  },
  {
   "cell_type": "code",
   "execution_count": 88,
   "metadata": {},
   "outputs": [
    {
     "name": "stdout",
     "output_type": "stream",
     "text": [
      "Source path =  /home/datasets/Project_data/train ; batch size = 29\n",
      "Epoch 1/15\n",
      "23/23 [==============================] - ETA: 0s - loss: 1.6095 - categorical_accuracy: 0.1739Source path =  /home/datasets/Project_data/val ; batch size = 29\n",
      "\n",
      "Epoch 00001: saving model to model_init_2022-03-3016_46_46.866775/model-00001-1.60952-0.17391-1.60914-0.29310.h5\n",
      "23/23 [==============================] - 41s 2s/step - loss: 1.6095 - categorical_accuracy: 0.1739 - val_loss: 1.6091 - val_categorical_accuracy: 0.2931\n",
      "Epoch 2/15\n",
      "23/23 [==============================] - ETA: 0s - loss: 1.6096 - categorical_accuracy: 0.2009\n",
      "Epoch 00002: saving model to model_init_2022-03-3016_46_46.866775/model-00002-1.60957-0.20090-1.60965-0.16379.h5\n",
      "23/23 [==============================] - 41s 2s/step - loss: 1.6096 - categorical_accuracy: 0.2009 - val_loss: 1.6097 - val_categorical_accuracy: 0.1638\n",
      "Epoch 3/15\n",
      "23/23 [==============================] - ETA: 0s - loss: 1.6095 - categorical_accuracy: 0.1934\n",
      "Epoch 00003: saving model to model_init_2022-03-3016_46_46.866775/model-00003-1.60945-0.19340-1.60908-0.18103.h5\n",
      "23/23 [==============================] - 41s 2s/step - loss: 1.6095 - categorical_accuracy: 0.1934 - val_loss: 1.6091 - val_categorical_accuracy: 0.1810\n",
      "Epoch 4/15\n",
      "23/23 [==============================] - ETA: 0s - loss: 1.6098 - categorical_accuracy: 0.1874\n",
      "Epoch 00004: saving model to model_init_2022-03-3016_46_46.866775/model-00004-1.60976-0.18741-1.60904-0.31034.h5\n",
      "23/23 [==============================] - 41s 2s/step - loss: 1.6098 - categorical_accuracy: 0.1874 - val_loss: 1.6090 - val_categorical_accuracy: 0.3103\n",
      "Epoch 5/15\n",
      "23/23 [==============================] - ETA: 0s - loss: 1.6093 - categorical_accuracy: 0.2219\n",
      "Epoch 00005: saving model to model_init_2022-03-3016_46_46.866775/model-00005-1.60926-0.22189-1.60931-0.23276.h5\n",
      "23/23 [==============================] - 42s 2s/step - loss: 1.6093 - categorical_accuracy: 0.2219 - val_loss: 1.6093 - val_categorical_accuracy: 0.2328\n",
      "Epoch 6/15\n",
      "23/23 [==============================] - ETA: 0s - loss: 1.6091 - categorical_accuracy: 0.2069\n",
      "Epoch 00006: saving model to model_init_2022-03-3016_46_46.866775/model-00006-1.60906-0.20690-1.60827-0.24138.h5\n",
      "23/23 [==============================] - 41s 2s/step - loss: 1.6091 - categorical_accuracy: 0.2069 - val_loss: 1.6083 - val_categorical_accuracy: 0.2414\n",
      "Epoch 7/15\n",
      "23/23 [==============================] - ETA: 0s - loss: 1.6083 - categorical_accuracy: 0.2324\n",
      "Epoch 00007: saving model to model_init_2022-03-3016_46_46.866775/model-00007-1.60834-0.23238-1.60866-0.22414.h5\n",
      "23/23 [==============================] - 42s 2s/step - loss: 1.6083 - categorical_accuracy: 0.2324 - val_loss: 1.6087 - val_categorical_accuracy: 0.2241\n",
      "Epoch 8/15\n",
      "23/23 [==============================] - ETA: 0s - loss: 1.6080 - categorical_accuracy: 0.2249\n",
      "Epoch 00008: saving model to model_init_2022-03-3016_46_46.866775/model-00008-1.60799-0.22489-1.61064-0.16379.h5\n",
      "23/23 [==============================] - 42s 2s/step - loss: 1.6080 - categorical_accuracy: 0.2249 - val_loss: 1.6106 - val_categorical_accuracy: 0.1638\n",
      "Epoch 9/15\n",
      "23/23 [==============================] - ETA: 0s - loss: 1.6100 - categorical_accuracy: 0.1994\n",
      "Epoch 00009: saving model to model_init_2022-03-3016_46_46.866775/model-00009-1.61002-0.19940-1.60730-0.21552.h5\n",
      "23/23 [==============================] - 42s 2s/step - loss: 1.6100 - categorical_accuracy: 0.1994 - val_loss: 1.6073 - val_categorical_accuracy: 0.2155\n",
      "Epoch 10/15\n",
      "23/23 [==============================] - ETA: 0s - loss: 1.6092 - categorical_accuracy: 0.2264\n",
      "Epoch 00010: saving model to model_init_2022-03-3016_46_46.866775/model-00010-1.60921-0.22639-1.60710-0.20690.h5\n",
      "23/23 [==============================] - 40s 2s/step - loss: 1.6092 - categorical_accuracy: 0.2264 - val_loss: 1.6071 - val_categorical_accuracy: 0.2069\n",
      "Epoch 11/15\n",
      "23/23 [==============================] - ETA: 0s - loss: 1.6103 - categorical_accuracy: 0.1844\n",
      "Epoch 00011: saving model to model_init_2022-03-3016_46_46.866775/model-00011-1.61034-0.18441-1.60740-0.21552.h5\n",
      "23/23 [==============================] - 41s 2s/step - loss: 1.6103 - categorical_accuracy: 0.1844 - val_loss: 1.6074 - val_categorical_accuracy: 0.2155\n",
      "Epoch 12/15\n",
      "23/23 [==============================] - ETA: 0s - loss: 1.6085 - categorical_accuracy: 0.1979\n",
      "Epoch 00012: saving model to model_init_2022-03-3016_46_46.866775/model-00012-1.60851-0.19790-1.60635-0.22414.h5\n",
      "23/23 [==============================] - 41s 2s/step - loss: 1.6085 - categorical_accuracy: 0.1979 - val_loss: 1.6063 - val_categorical_accuracy: 0.2241\n",
      "Epoch 13/15\n",
      "23/23 [==============================] - ETA: 0s - loss: 1.6094 - categorical_accuracy: 0.2024\n",
      "Epoch 00013: saving model to model_init_2022-03-3016_46_46.866775/model-00013-1.60935-0.20240-1.60683-0.23276.h5\n",
      "23/23 [==============================] - 42s 2s/step - loss: 1.6094 - categorical_accuracy: 0.2024 - val_loss: 1.6068 - val_categorical_accuracy: 0.2328\n",
      "Epoch 14/15\n",
      "23/23 [==============================] - ETA: 0s - loss: 1.6096 - categorical_accuracy: 0.1874\n",
      "Epoch 00014: saving model to model_init_2022-03-3016_46_46.866775/model-00014-1.60958-0.18741-1.60932-0.23276.h5\n",
      "23/23 [==============================] - 40s 2s/step - loss: 1.6096 - categorical_accuracy: 0.1874 - val_loss: 1.6093 - val_categorical_accuracy: 0.2328\n",
      "Epoch 15/15\n",
      "23/23 [==============================] - ETA: 0s - loss: 1.6092 - categorical_accuracy: 0.2024\n",
      "Epoch 00015: saving model to model_init_2022-03-3016_46_46.866775/model-00015-1.60918-0.20240-1.60582-0.29310.h5\n",
      "23/23 [==============================] - 41s 2s/step - loss: 1.6092 - categorical_accuracy: 0.2024 - val_loss: 1.6058 - val_categorical_accuracy: 0.2931\n"
     ]
    }
   ],
   "source": [
    "history = model.fit(train_generator, steps_per_epoch=steps_per_epoch, epochs=num_epochs, verbose=1, \n",
    "                    callbacks=callbacks_list, validation_data=val_generator, \n",
    "                    validation_steps=validation_steps, class_weight=None, workers=1, initial_epoch=0)"
   ]
  },
  {
   "cell_type": "code",
   "execution_count": 89,
   "metadata": {},
   "outputs": [
    {
     "data": {
      "image/png": "[encoded data removed]",
      "text/plain": [
       "<Figure size 1080x288 with 2 Axes>"
      ]
     },
     "metadata": {
      "needs_background": "light"
     },
     "output_type": "display_data"
    }
   ],
   "source": [
    "plot(history)"
   ]
  },
  {
   "cell_type": "code",
   "execution_count": 102,
   "metadata": {},
   "outputs": [],
   "source": [
    "##Model CONV2D + LSTM"
   ]
  },
  {
   "cell_type": "code",
   "execution_count": 103,
   "metadata": {},
   "outputs": [
    {
     "name": "stdout",
     "output_type": "stream",
     "text": [
      "Model: \"sequential_12\"\n",
      "_________________________________________________________________\n",
      "Layer (type)                 Output Shape              Param #   \n",
      "=================================================================\n",
      "time_distributed_87 (TimeDis (None, 28, 80, 80, 32)    4736      \n",
      "_________________________________________________________________\n",
      "time_distributed_88 (TimeDis (None, 28, 78, 78, 32)    9248      \n",
      "_________________________________________________________________\n",
      "time_distributed_89 (TimeDis (None, 28, 39, 39, 32)    0         \n",
      "_________________________________________________________________\n",
      "time_distributed_90 (TimeDis (None, 28, 39, 39, 64)    18496     \n",
      "_________________________________________________________________\n",
      "time_distributed_91 (TimeDis (None, 28, 39, 39, 64)    36928     \n",
      "_________________________________________________________________\n",
      "time_distributed_92 (TimeDis (None, 28, 19, 19, 64)    0         \n",
      "_________________________________________________________________\n",
      "time_distributed_93 (TimeDis (None, 28, 19, 19, 128)   73856     \n",
      "_________________________________________________________________\n",
      "time_distributed_94 (TimeDis (None, 28, 19, 19, 128)   147584    \n",
      "_________________________________________________________________\n",
      "time_distributed_95 (TimeDis (None, 28, 9, 9, 128)     0         \n",
      "_________________________________________________________________\n",
      "time_distributed_96 (TimeDis (None, 28, 9, 9, 256)     295168    \n",
      "_________________________________________________________________\n",
      "time_distributed_97 (TimeDis (None, 28, 9, 9, 256)     590080    \n",
      "_________________________________________________________________\n",
      "time_distributed_98 (TimeDis (None, 28, 4, 4, 256)     0         \n",
      "_________________________________________________________________\n",
      "time_distributed_99 (TimeDis (None, 28, 4, 4, 512)     1180160   \n",
      "_________________________________________________________________\n",
      "time_distributed_100 (TimeDi (None, 28, 4, 4, 512)     2359808   \n",
      "_________________________________________________________________\n",
      "time_distributed_101 (TimeDi (None, 28, 2, 2, 512)     0         \n",
      "_________________________________________________________________\n",
      "time_distributed_102 (TimeDi (None, 28, 2048)          0         \n",
      "_________________________________________________________________\n",
      "dropout_25 (Dropout)         (None, 28, 2048)          0         \n",
      "_________________________________________________________________\n",
      "lstm_3 (LSTM)                (None, 512)               5244928   \n",
      "_________________________________________________________________\n",
      "dense_23 (Dense)             (None, 5)                 2565      \n",
      "=================================================================\n",
      "Total params: 9,963,557\n",
      "Trainable params: 9,963,557\n",
      "Non-trainable params: 0\n",
      "_________________________________________________________________\n"
     ]
    }
   ],
   "source": [
    "#write your model here\n",
    "from tensorflow.keras.models import Sequential, Model\n",
    "from tensorflow.keras.layers import Conv2D,MaxPooling2D\n",
    "from tensorflow.keras.callbacks import ModelCheckpoint, ReduceLROnPlateau\n",
    "from tensorflow.keras.layers import Dense, GRU, Flatten, TimeDistributed, Flatten, BatchNormalization, Activation, Dropout, LSTM, Bidirectional\n",
    "\n",
    "\n",
    "Input_shape_1 = (28, 160, 160, 3)\n",
    "model = Sequential()\n",
    "model.add(TimeDistributed(Conv2D(32, (7, 7), strides=(2, 2), activation='relu', padding='same'), input_shape=Input_shape_1))\n",
    "model.add(TimeDistributed(Conv2D(32, (3,3), kernel_initializer=\"he_normal\", activation='relu')))\n",
    "model.add(TimeDistributed(MaxPooling2D((2, 2), strides=(2, 2))))\n",
    " \n",
    "model.add(TimeDistributed(Conv2D(64, (3,3), padding='same', activation='relu')))\n",
    "model.add(TimeDistributed(Conv2D(64, (3,3), padding='same', activation='relu')))\n",
    "model.add(TimeDistributed(MaxPooling2D((2, 2), strides=(2, 2))))\n",
    " \n",
    "model.add(TimeDistributed(Conv2D(128, (3,3), padding='same', activation='relu')))\n",
    "model.add(TimeDistributed(Conv2D(128, (3,3), padding='same', activation='relu')))\n",
    "model.add(TimeDistributed(MaxPooling2D((2, 2), strides=(2, 2))))\n",
    " \n",
    "model.add(TimeDistributed(Conv2D(256, (3,3), padding='same', activation='relu')))\n",
    "model.add(TimeDistributed(Conv2D(256, (3,3), padding='same', activation='relu')))\n",
    "model.add(TimeDistributed(MaxPooling2D((2, 2), strides=(2, 2))))\n",
    " \n",
    "model.add(TimeDistributed(Conv2D(512, (3,3), padding='same', activation='relu')))\n",
    "model.add(TimeDistributed(Conv2D(512, (3,3), padding='same', activation='relu')))\n",
    "model.add(TimeDistributed(MaxPooling2D((2, 2), strides=(2, 2))))\n",
    " \n",
    "model.add(TimeDistributed(Flatten()))\n",
    " \n",
    "model.add(Dropout(0.5))\n",
    "model.add(LSTM(512, return_sequences=False, dropout=0.5))\n",
    "model.add(Dense(5, activation='softmax'))\n",
    "model.summary()"
   ]
  },
  {
   "cell_type": "code",
   "execution_count": 104,
   "metadata": {},
   "outputs": [],
   "source": [
    "from tensorflow.keras.models import Sequential, Model\n",
    "from tensorflow.keras.layers import Dense, GRU, Flatten, TimeDistributed, Flatten, BatchNormalization, Activation\n",
    "from tensorflow.keras.layers import Conv3D, MaxPooling3D ,Conv2D, MaxPooling2D\n",
    "from tensorflow.keras.callbacks import ModelCheckpoint, ReduceLROnPlateau\n",
    "from tensorflow.keras import optimizers\n",
    "from tensorflow.keras.layers import Dropout\n",
    "from tensorflow.keras.layers import Dense, GRU, Flatten, TimeDistributed, Flatten, BatchNormalization, Activation\n",
    "\n",
    "Input_shape = (28, 100, 100, 3)\n",
    "filtersize=(3,3,3)\n",
    "dense_neurons=64\n",
    "dropout=0.25\n",
    "lstm_cells=64\n",
    "\n",
    "model = Sequential()\n",
    "\n",
    "model.add(TimeDistributed(Conv2D(16, (3, 3) , padding='same', activation='relu'),\n",
    "                                 input_shape=Input_shape))\n",
    "model.add(TimeDistributed(BatchNormalization()))\n",
    "model.add(TimeDistributed(MaxPooling2D((2, 2))))\n",
    "        \n",
    "model.add(TimeDistributed(Conv2D(32, (3, 3) , padding='same', activation='relu')))\n",
    "model.add(TimeDistributed(BatchNormalization()))\n",
    "model.add(TimeDistributed(MaxPooling2D((2, 2))))\n",
    "        \n",
    "model.add(TimeDistributed(Conv2D(64, (3, 3) , padding='same', activation='relu')))\n",
    "model.add(TimeDistributed(BatchNormalization()))\n",
    "model.add(TimeDistributed(MaxPooling2D((2, 2))))\n",
    "        \n",
    "model.add(TimeDistributed(Conv2D(128, (3, 3) , padding='same', activation='relu')))\n",
    "model.add(TimeDistributed(BatchNormalization()))\n",
    "model.add(TimeDistributed(MaxPooling2D((2, 2))))\n",
    "        \n",
    "\n",
    "model.add(TimeDistributed(Flatten()))\n",
    "\n",
    "\n",
    "model.add(GRU(lstm_cells))\n",
    "model.add(Dropout(dropout))\n",
    "        \n",
    "model.add(Dense(dense_neurons,activation='relu'))\n",
    "model.add(Dropout(dropout))\n",
    "        \n",
    "model.add(Dense(5, activation='softmax'))"
   ]
  },
  {
   "cell_type": "code",
   "execution_count": 106,
   "metadata": {},
   "outputs": [
    {
     "name": "stdout",
     "output_type": "stream",
     "text": [
      "Model: \"sequential_13\"\n",
      "_________________________________________________________________\n",
      "Layer (type)                 Output Shape              Param #   \n",
      "=================================================================\n",
      "time_distributed_103 (TimeDi (None, 28, 100, 100, 16)  448       \n",
      "_________________________________________________________________\n",
      "time_distributed_104 (TimeDi (None, 28, 100, 100, 16)  64        \n",
      "_________________________________________________________________\n",
      "time_distributed_105 (TimeDi (None, 28, 50, 50, 16)    0         \n",
      "_________________________________________________________________\n",
      "time_distributed_106 (TimeDi (None, 28, 50, 50, 32)    4640      \n",
      "_________________________________________________________________\n",
      "time_distributed_107 (TimeDi (None, 28, 50, 50, 32)    128       \n",
      "_________________________________________________________________\n",
      "time_distributed_108 (TimeDi (None, 28, 25, 25, 32)    0         \n",
      "_________________________________________________________________\n",
      "time_distributed_109 (TimeDi (None, 28, 25, 25, 64)    18496     \n",
      "_________________________________________________________________\n",
      "time_distributed_110 (TimeDi (None, 28, 25, 25, 64)    256       \n",
      "_________________________________________________________________\n",
      "time_distributed_111 (TimeDi (None, 28, 12, 12, 64)    0         \n",
      "_________________________________________________________________\n",
      "time_distributed_112 (TimeDi (None, 28, 12, 12, 128)   73856     \n",
      "_________________________________________________________________\n",
      "time_distributed_113 (TimeDi (None, 28, 12, 12, 128)   512       \n",
      "_________________________________________________________________\n",
      "time_distributed_114 (TimeDi (None, 28, 6, 6, 128)     0         \n",
      "_________________________________________________________________\n",
      "time_distributed_115 (TimeDi (None, 28, 4608)          0         \n",
      "_________________________________________________________________\n",
      "gru_3 (GRU)                  (None, 64)                897408    \n",
      "_________________________________________________________________\n",
      "dropout_26 (Dropout)         (None, 64)                0         \n",
      "_________________________________________________________________\n",
      "dense_24 (Dense)             (None, 64)                4160      \n",
      "_________________________________________________________________\n",
      "dropout_27 (Dropout)         (None, 64)                0         \n",
      "_________________________________________________________________\n",
      "dense_25 (Dense)             (None, 5)                 325       \n",
      "=================================================================\n",
      "Total params: 1,000,293\n",
      "Trainable params: 999,813\n",
      "Non-trainable params: 480\n",
      "_________________________________________________________________\n",
      "None\n"
     ]
    }
   ],
   "source": [
    "optimiser = tensorflow.keras.optimizers.Adam(lr=0.001)\n",
    "model.compile(optimizer='sgd', loss='categorical_crossentropy', metrics=['categorical_accuracy'])\n",
    "print (model.summary())"
   ]
  },
  {
   "cell_type": "code",
   "execution_count": 107,
   "metadata": {},
   "outputs": [],
   "source": [
    "train_generator = generator(train_path, train_doc, batch_size)\n",
    "val_generator = generator(val_path, val_doc, batch_size)"
   ]
  },
  {
   "cell_type": "code",
   "execution_count": 108,
   "metadata": {},
   "outputs": [
    {
     "name": "stdout",
     "output_type": "stream",
     "text": [
      "WARNING:tensorflow:`period` argument is deprecated. Please use `save_freq` to specify the frequency in number of batches seen.\n",
      "WARNING:tensorflow:`epsilon` argument is deprecated and will be removed, use `min_delta` instead.\n"
     ]
    }
   ],
   "source": [
    "model_name = 'Gesture_recog' + '_' + str(curr_dt_time).replace(' ','').replace(':','_') + '/'\n",
    "    \n",
    "if not os.path.exists(model_name):\n",
    "    os.mkdir(model_name)\n",
    "        \n",
    "filepath = model_name + 'model-{epoch:05d}-{loss:.5f}-{categorical_accuracy:.5f}-{val_loss:.5f}-{val_categorical_accuracy:.5f}.h5'\n",
    "\n",
    "checkpoint = ModelCheckpoint(filepath, monitor='val_loss', verbose=1, save_best_only=False, save_weights_only=False, mode='auto', period=1)\n",
    "\n",
    "LR = ReduceLROnPlateau(monitor = \"val_loss\", factor = 0.1, patience = 10,\n",
    "  verbose = 0, mode = \"auto\", epsilon = 1e-04, cooldown = 0,\n",
    "  min_lr = 0)\n",
    "callbacks_list = [checkpoint, LR]"
   ]
  },
  {
   "cell_type": "code",
   "execution_count": 109,
   "metadata": {},
   "outputs": [
    {
     "name": "stdout",
     "output_type": "stream",
     "text": [
      "23\n",
      "4\n"
     ]
    }
   ],
   "source": [
    "if (num_train_sequences%batch_size) == 0:\n",
    "    steps_per_epoch = int(num_train_sequences/batch_size)    \n",
    "else:\n",
    "    steps_per_epoch = (num_train_sequences//batch_size) + 1\n",
    "\n",
    "print(steps_per_epoch)\n",
    "    \n",
    "if (num_val_sequences%batch_size) == 0:\n",
    "    validation_steps = int(num_val_sequences/batch_size)\n",
    "else:\n",
    "    validation_steps = (num_val_sequences//batch_size) + 1\n",
    "\n",
    "print(validation_steps)    "
   ]
  },
  {
   "cell_type": "code",
   "execution_count": 110,
   "metadata": {},
   "outputs": [
    {
     "name": "stdout",
     "output_type": "stream",
     "text": [
      "Source path =  /home/datasets/Project_data/train ; batch size = 29\n",
      "Epoch 1/15\n",
      "23/23 [==============================] - ETA: 0s - loss: 1.6096 - categorical_accuracy: 0.1829Source path =  /home/datasets/Project_data/val ; batch size = 29\n",
      "\n",
      "Epoch 00001: saving model to Gesture_recog_2022-03-3016_46_46.866775/model-00001-1.60955-0.18291-1.60936-0.25000.h5\n",
      "23/23 [==============================] - 42s 2s/step - loss: 1.6096 - categorical_accuracy: 0.1829 - val_loss: 1.6094 - val_categorical_accuracy: 0.2500\n",
      "Epoch 2/15\n",
      "23/23 [==============================] - ETA: 0s - loss: 1.6096 - categorical_accuracy: 0.1799\n",
      "Epoch 00002: saving model to Gesture_recog_2022-03-3016_46_46.866775/model-00002-1.60956-0.17991-1.60933-0.19828.h5\n",
      "23/23 [==============================] - 43s 2s/step - loss: 1.6096 - categorical_accuracy: 0.1799 - val_loss: 1.6093 - val_categorical_accuracy: 0.1983\n",
      "Epoch 3/15\n",
      "23/23 [==============================] - ETA: 0s - loss: 1.6094 - categorical_accuracy: 0.2054\n",
      "Epoch 00003: saving model to Gesture_recog_2022-03-3016_46_46.866775/model-00003-1.60938-0.20540-1.60984-0.12069.h5\n",
      "23/23 [==============================] - 40s 2s/step - loss: 1.6094 - categorical_accuracy: 0.2054 - val_loss: 1.6098 - val_categorical_accuracy: 0.1207\n",
      "Epoch 4/15\n",
      "23/23 [==============================] - ETA: 0s - loss: 1.6093 - categorical_accuracy: 0.2234\n",
      "Epoch 00004: saving model to Gesture_recog_2022-03-3016_46_46.866775/model-00004-1.60931-0.22339-1.61023-0.12931.h5\n",
      "23/23 [==============================] - 40s 2s/step - loss: 1.6093 - categorical_accuracy: 0.2234 - val_loss: 1.6102 - val_categorical_accuracy: 0.1293\n",
      "Epoch 5/15\n",
      "23/23 [==============================] - ETA: 0s - loss: 1.6089 - categorical_accuracy: 0.2129\n",
      "Epoch 00005: saving model to Gesture_recog_2022-03-3016_46_46.866775/model-00005-1.60886-0.21289-1.60976-0.20690.h5\n",
      "23/23 [==============================] - 38s 2s/step - loss: 1.6089 - categorical_accuracy: 0.2129 - val_loss: 1.6098 - val_categorical_accuracy: 0.2069\n",
      "Epoch 6/15\n",
      "23/23 [==============================] - ETA: 0s - loss: 1.6089 - categorical_accuracy: 0.2324\n",
      "Epoch 00006: saving model to Gesture_recog_2022-03-3016_46_46.866775/model-00006-1.60894-0.23238-1.60953-0.18103.h5\n",
      "23/23 [==============================] - 39s 2s/step - loss: 1.6089 - categorical_accuracy: 0.2324 - val_loss: 1.6095 - val_categorical_accuracy: 0.1810\n",
      "Epoch 7/15\n",
      "23/23 [==============================] - ETA: 0s - loss: 1.6091 - categorical_accuracy: 0.1994\n",
      "Epoch 00007: saving model to Gesture_recog_2022-03-3016_46_46.866775/model-00007-1.60909-0.19940-1.60765-0.25000.h5\n",
      "23/23 [==============================] - 40s 2s/step - loss: 1.6091 - categorical_accuracy: 0.1994 - val_loss: 1.6077 - val_categorical_accuracy: 0.2500\n",
      "Epoch 8/15\n",
      "23/23 [==============================] - ETA: 0s - loss: 1.6089 - categorical_accuracy: 0.2069\n",
      "Epoch 00008: saving model to Gesture_recog_2022-03-3016_46_46.866775/model-00008-1.60891-0.20690-1.60745-0.26724.h5\n",
      "23/23 [==============================] - 38s 2s/step - loss: 1.6089 - categorical_accuracy: 0.2069 - val_loss: 1.6075 - val_categorical_accuracy: 0.2672\n",
      "Epoch 9/15\n",
      "23/23 [==============================] - ETA: 0s - loss: 1.6094 - categorical_accuracy: 0.1949\n",
      "Epoch 00009: saving model to Gesture_recog_2022-03-3016_46_46.866775/model-00009-1.60943-0.19490-1.61218-0.19828.h5\n",
      "23/23 [==============================] - 40s 2s/step - loss: 1.6094 - categorical_accuracy: 0.1949 - val_loss: 1.6122 - val_categorical_accuracy: 0.1983\n",
      "Epoch 10/15\n",
      "23/23 [==============================] - ETA: 0s - loss: 1.6084 - categorical_accuracy: 0.2324\n",
      "Epoch 00010: saving model to Gesture_recog_2022-03-3016_46_46.866775/model-00010-1.60837-0.23238-1.60741-0.25000.h5\n",
      "23/23 [==============================] - 38s 2s/step - loss: 1.6084 - categorical_accuracy: 0.2324 - val_loss: 1.6074 - val_categorical_accuracy: 0.2500\n",
      "Epoch 11/15\n",
      "23/23 [==============================] - ETA: 0s - loss: 1.6091 - categorical_accuracy: 0.2069\n",
      "Epoch 00011: saving model to Gesture_recog_2022-03-3016_46_46.866775/model-00011-1.60915-0.20690-1.60813-0.20690.h5\n",
      "23/23 [==============================] - 38s 2s/step - loss: 1.6091 - categorical_accuracy: 0.2069 - val_loss: 1.6081 - val_categorical_accuracy: 0.2069\n",
      "Epoch 12/15\n",
      "23/23 [==============================] - ETA: 0s - loss: 1.6081 - categorical_accuracy: 0.2294\n",
      "Epoch 00012: saving model to Gesture_recog_2022-03-3016_46_46.866775/model-00012-1.60811-0.22939-1.60848-0.18966.h5\n",
      "23/23 [==============================] - 40s 2s/step - loss: 1.6081 - categorical_accuracy: 0.2294 - val_loss: 1.6085 - val_categorical_accuracy: 0.1897\n",
      "Epoch 13/15\n",
      "23/23 [==============================] - ETA: 0s - loss: 1.6079 - categorical_accuracy: 0.2249\n",
      "Epoch 00013: saving model to Gesture_recog_2022-03-3016_46_46.866775/model-00013-1.60794-0.22489-1.60974-0.12931.h5\n",
      "23/23 [==============================] - 38s 2s/step - loss: 1.6079 - categorical_accuracy: 0.2249 - val_loss: 1.6097 - val_categorical_accuracy: 0.1293\n",
      "Epoch 14/15\n",
      "23/23 [==============================] - ETA: 0s - loss: 1.6087 - categorical_accuracy: 0.2174\n",
      "Epoch 00014: saving model to Gesture_recog_2022-03-3016_46_46.866775/model-00014-1.60871-0.21739-1.60855-0.24138.h5\n",
      "23/23 [==============================] - 38s 2s/step - loss: 1.6087 - categorical_accuracy: 0.2174 - val_loss: 1.6086 - val_categorical_accuracy: 0.2414\n",
      "Epoch 15/15\n",
      "23/23 [==============================] - ETA: 0s - loss: 1.6096 - categorical_accuracy: 0.1904\n",
      "Epoch 00015: saving model to Gesture_recog_2022-03-3016_46_46.866775/model-00015-1.60961-0.19040-1.60652-0.18103.h5\n",
      "23/23 [==============================] - 41s 2s/step - loss: 1.6096 - categorical_accuracy: 0.1904 - val_loss: 1.6065 - val_categorical_accuracy: 0.1810\n"
     ]
    }
   ],
   "source": [
    "history1 = model.fit(train_generator, steps_per_epoch=steps_per_epoch, epochs=num_epochs, verbose=1, \n",
    "                    callbacks=callbacks_list, validation_data=val_generator, \n",
    "                    validation_steps=validation_steps, class_weight=None, workers=1, initial_epoch=0)"
   ]
  },
  {
   "cell_type": "code",
   "execution_count": 111,
   "metadata": {},
   "outputs": [
    {
     "data": {
      "image/png": "[encoded data removed]",
      "text/plain": [
       "<Figure size 1080x288 with 2 Axes>"
      ]
     },
     "metadata": {
      "needs_background": "light"
     },
     "output_type": "display_data"
    }
   ],
   "source": [
    "plot(history1)"
   ]
  },
  {
   "cell_type": "code",
   "execution_count": null,
   "metadata": {},
   "outputs": [],
   "source": []
  }
 ],
 "metadata": {
  "kernelspec": {
   "display_name": "Python 3 (ipykernel)",
   "language": "python",
   "name": "python3"
  },
  "language_info": {
   "codemirror_mode": {
    "name": "ipython",
    "version": 3
   },
   "file_extension": ".py",
   "mimetype": "text/x-python",
   "name": "python",
   "nbconvert_exporter": "python",
   "pygments_lexer": "ipython3",
   "version": "3.9.7"
  }
 },
 "nbformat": 4,
 "nbformat_minor": 4
}
